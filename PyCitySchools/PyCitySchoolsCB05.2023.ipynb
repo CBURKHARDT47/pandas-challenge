{
 "cells": [
  {
   "attachments": {},
   "cell_type": "markdown",
   "metadata": {},
   "source": [
    "# PyCity Schools Analysis\n",
    "\n",
    "1. Students are demonstrating more proficiency in reading than in math across the sample of 15 schools. The percent of students passing reading (85.80%) and their average reading score of 91.87 is higher than the percent of students passing math (74.98%) and their average math score of 78.98, which reveals that students are doing better in reading than math.\n",
    "\n",
    "2. Students attending schools that spend less per student are actually demonstrating higher academic achievement rates than at the schools that spend more per student in funding. Based on the performance of spending ranges per student, students have a higher overall passing rate of 90.37 percent in the lower spending ranges (<$585).\n",
    "\n",
    "3. Lastly, the data also shows that the Charter Schools are scoring better than the District Schools across all metrics analyzed by the tasks in this challenge. This means that schools with larger student population typically can negatively influence student achievement and learning. "
   ]
  },
  {
   "cell_type": "code",
   "execution_count": 3,
   "metadata": {},
   "outputs": [],
   "source": [
    "# Dependencies and Setup\n",
    "import pandas as pd\n",
    "import numpy as np\n",
    "\n",
    "# File to Load (Remember to Change These)\n",
    "school_data_to_load = \"PyCitySchools/Resources/schools_complete.csv\"\n",
    "student_data_to_load = \"PyCitySchools/Resources/students_complete.csv\"\n",
    "\n",
    "# Read School and Student Data File and store into Pandas DataFrames\n",
    "school_data = pd.read_csv(school_data_to_load)\n",
    "student_data = pd.read_csv(student_data_to_load)\n",
    "\n",
    "# Combine the data into a single dataset.  \n",
    "school_data_complete = pd.merge(student_data, school_data, how=\"left\", on=[\"school_name\", \"school_name\"])"
   ]
  },
  {
   "attachments": {},
   "cell_type": "markdown",
   "metadata": {},
   "source": [
    "## District Summary"
   ]
  },
  {
   "cell_type": "code",
   "execution_count": 4,
   "metadata": {},
   "outputs": [
    {
     "data": {
      "text/html": [
       "<div>\n",
       "<style scoped>\n",
       "    .dataframe tbody tr th:only-of-type {\n",
       "        vertical-align: middle;\n",
       "    }\n",
       "\n",
       "    .dataframe tbody tr th {\n",
       "        vertical-align: top;\n",
       "    }\n",
       "\n",
       "    .dataframe thead th {\n",
       "        text-align: right;\n",
       "    }\n",
       "</style>\n",
       "<table border=\"1\" class=\"dataframe\">\n",
       "  <thead>\n",
       "    <tr style=\"text-align: right;\">\n",
       "      <th></th>\n",
       "      <th>Total Schools</th>\n",
       "      <th>Total Students</th>\n",
       "      <th>Total Budget</th>\n",
       "      <th>Average Math Score</th>\n",
       "      <th>Average Reading Score</th>\n",
       "      <th>% Passing Math</th>\n",
       "      <th>% Passing Reading</th>\n",
       "      <th>% Overall Passing Rate</th>\n",
       "    </tr>\n",
       "  </thead>\n",
       "  <tbody>\n",
       "    <tr>\n",
       "      <th>0</th>\n",
       "      <td>15</td>\n",
       "      <td>39170</td>\n",
       "      <td>$24,649,428.00</td>\n",
       "      <td>78.985371</td>\n",
       "      <td>81.87784</td>\n",
       "      <td>74.980853</td>\n",
       "      <td>85.805463</td>\n",
       "      <td>80.431606</td>\n",
       "    </tr>\n",
       "  </tbody>\n",
       "</table>\n",
       "</div>"
      ],
      "text/plain": [
       "   Total Schools  Total Students    Total Budget  Average Math Score   \n",
       "0             15           39170  $24,649,428.00           78.985371  \\\n",
       "\n",
       "   Average Reading Score  % Passing Math  % Passing Reading   \n",
       "0               81.87784       74.980853          85.805463  \\\n",
       "\n",
       "   % Overall Passing Rate  \n",
       "0               80.431606  "
      ]
     },
     "execution_count": 4,
     "metadata": {},
     "output_type": "execute_result"
    }
   ],
   "source": [
    "# Calculate the total number of schools\n",
    "totalSchools = school_data_complete[\"school_name\"].nunique()\n",
    "# Calculate the total number of students\n",
    "totalStudents = school_data_complete[\"Student ID\"].nunique()\n",
    "# Calculate the total budget\n",
    "totalBudget = school_data[\"budget\"].sum()\n",
    "# Calculate the average math score\n",
    "averageMathScore = school_data_complete[\"math_score\"].mean()\n",
    "# Calculate the average reading score\n",
    "averageReadingScore = school_data_complete[\"reading_score\"].mean()\n",
    "# Calculate the percentage of students with a passing math score (70 or greater)\n",
    "passingMath = len(school_data_complete[school_data_complete[\"math_score\"] >= 70])\n",
    "percentagePassingMath = passingMath / totalStudents * 100\n",
    "# Calculate the percentage of students with a passing reading score (70 or greater)\n",
    "passingReading = len(school_data_complete[school_data_complete[\"reading_score\"] >= 70])\n",
    "percentagePassingReading = passingReading / totalStudents * 100\n",
    "# Calculate the overall passing rate (overall average score), i.e. (avg. math score + avg. reading score)/2\n",
    "percentageOverallPassingRate = (averageMathScore + averageReadingScore) / 2\n",
    "\n",
    "# Create a dataframe to hold the above results\n",
    "district_summary_df = pd.DataFrame({\n",
    "    \"Total Schools\": [totalSchools],\n",
    "    \"Total Students\": [totalStudents],\n",
    "    \"Total Budget\": [totalBudget],\n",
    "    \"Average Math Score\": [averageMathScore],\n",
    "    \"Average Reading Score\": [averageReadingScore],\n",
    "    \"% Passing Math\": [percentagePassingMath],\n",
    "    \"% Passing Reading\": [percentagePassingReading],\n",
    "    \"% Overall Passing Rate\": [percentageOverallPassingRate]\n",
    "})\n",
    "\n",
    "# Optional: give the displayed data cleaner formatting\n",
    "district_summary_df[\"Total Budget\"] = district_summary_df[\"Total Budget\"].map(\"${:,.2f}\".format)\n",
    "\n",
    "district_summary_df[[\"Total Schools\",\n",
    "      \"Total Students\",\n",
    "      \"Total Budget\",\n",
    "      \"Average Math Score\",\n",
    "      \"Average Reading Score\",\n",
    "      \"% Passing Math\",\n",
    "      \"% Passing Reading\",\n",
    "      \"% Overall Passing Rate\"]]"
   ]
  },
  {
   "attachments": {},
   "cell_type": "markdown",
   "metadata": {},
   "source": [
    "## School Summary"
   ]
  },
  {
   "cell_type": "code",
   "execution_count": 11,
   "metadata": {},
   "outputs": [
    {
     "ename": "ImportError",
     "evalue": "Missing optional dependency 'Jinja2'. DataFrame.style requires jinja2. Use pip or conda to install Jinja2.",
     "output_type": "error",
     "traceback": [
      "\u001b[1;31m---------------------------------------------------------------------------\u001b[0m",
      "\u001b[1;31mModuleNotFoundError\u001b[0m                       Traceback (most recent call last)",
      "File \u001b[1;32m~\\AppData\\Local\\Packages\\PythonSoftwareFoundation.Python.3.11_qbz5n2kfra8p0\\LocalCache\\local-packages\\Python311\\site-packages\\pandas\\compat\\_optional.py:142\u001b[0m, in \u001b[0;36mimport_optional_dependency\u001b[1;34m(name, extra, errors, min_version)\u001b[0m\n\u001b[0;32m    141\u001b[0m \u001b[39mtry\u001b[39;00m:\n\u001b[1;32m--> 142\u001b[0m     module \u001b[39m=\u001b[39m importlib\u001b[39m.\u001b[39;49mimport_module(name)\n\u001b[0;32m    143\u001b[0m \u001b[39mexcept\u001b[39;00m \u001b[39mImportError\u001b[39;00m:\n",
      "File \u001b[1;32mC:\\Program Files\\WindowsApps\\PythonSoftwareFoundation.Python.3.11_3.11.1008.0_x64__qbz5n2kfra8p0\\Lib\\importlib\\__init__.py:126\u001b[0m, in \u001b[0;36mimport_module\u001b[1;34m(name, package)\u001b[0m\n\u001b[0;32m    125\u001b[0m         level \u001b[39m+\u001b[39m\u001b[39m=\u001b[39m \u001b[39m1\u001b[39m\n\u001b[1;32m--> 126\u001b[0m \u001b[39mreturn\u001b[39;00m _bootstrap\u001b[39m.\u001b[39;49m_gcd_import(name[level:], package, level)\n",
      "File \u001b[1;32m<frozen importlib._bootstrap>:1206\u001b[0m, in \u001b[0;36m_gcd_import\u001b[1;34m(name, package, level)\u001b[0m\n",
      "File \u001b[1;32m<frozen importlib._bootstrap>:1178\u001b[0m, in \u001b[0;36m_find_and_load\u001b[1;34m(name, import_)\u001b[0m\n",
      "File \u001b[1;32m<frozen importlib._bootstrap>:1142\u001b[0m, in \u001b[0;36m_find_and_load_unlocked\u001b[1;34m(name, import_)\u001b[0m\n",
      "\u001b[1;31mModuleNotFoundError\u001b[0m: No module named 'jinja2'",
      "\nDuring handling of the above exception, another exception occurred:\n",
      "\u001b[1;31mImportError\u001b[0m                               Traceback (most recent call last)",
      "Cell \u001b[1;32mIn[11], line 57\u001b[0m\n\u001b[0;32m     45\u001b[0m school_summary \u001b[39m=\u001b[39m school_summary[[\u001b[39m'\u001b[39m\u001b[39mSchool Type\u001b[39m\u001b[39m'\u001b[39m, \n\u001b[0;32m     46\u001b[0m                           \u001b[39m'\u001b[39m\u001b[39mTotal Students\u001b[39m\u001b[39m'\u001b[39m, \n\u001b[0;32m     47\u001b[0m                           \u001b[39m'\u001b[39m\u001b[39mTotal School Budget\u001b[39m\u001b[39m'\u001b[39m, \n\u001b[1;32m   (...)\u001b[0m\n\u001b[0;32m     52\u001b[0m                           \u001b[39m'\u001b[39m\u001b[39m%\u001b[39m\u001b[39m Passing Reading\u001b[39m\u001b[39m'\u001b[39m,\n\u001b[0;32m     53\u001b[0m                           \u001b[39m'\u001b[39m\u001b[39m%\u001b[39m\u001b[39m Overall Passing\u001b[39m\u001b[39m'\u001b[39m]]\n\u001b[0;32m     56\u001b[0m \u001b[39m# Formatting\u001b[39;00m\n\u001b[1;32m---> 57\u001b[0m school_summary\u001b[39m.\u001b[39;49mstyle\u001b[39m.\u001b[39mformat({\u001b[39m'\u001b[39m\u001b[39mTotal Students\u001b[39m\u001b[39m'\u001b[39m: \u001b[39m'\u001b[39m\u001b[39m{:}\u001b[39;00m\u001b[39m'\u001b[39m,\n\u001b[0;32m     58\u001b[0m                           \u001b[39m\"\u001b[39m\u001b[39mTotal School Budget\u001b[39m\u001b[39m\"\u001b[39m: \u001b[39m\"\u001b[39m\u001b[39m$\u001b[39m\u001b[39m{:,.2f}\u001b[39;00m\u001b[39m\"\u001b[39m,\n\u001b[0;32m     59\u001b[0m                           \u001b[39m\"\u001b[39m\u001b[39mPer Student Budget\u001b[39m\u001b[39m\"\u001b[39m: \u001b[39m\"\u001b[39m\u001b[39m$\u001b[39m\u001b[39m{:.2f}\u001b[39;00m\u001b[39m\"\u001b[39m,\n\u001b[0;32m     60\u001b[0m                           \u001b[39m'\u001b[39m\u001b[39mAverage Math Score\u001b[39m\u001b[39m'\u001b[39m: \u001b[39m\"\u001b[39m\u001b[39m{:6f}\u001b[39;00m\u001b[39m\"\u001b[39m, \n\u001b[0;32m     61\u001b[0m                           \u001b[39m'\u001b[39m\u001b[39mAverage Reading Score\u001b[39m\u001b[39m'\u001b[39m: \u001b[39m\"\u001b[39m\u001b[39m{:6f}\u001b[39;00m\u001b[39m\"\u001b[39m, \n\u001b[0;32m     62\u001b[0m                           \u001b[39m\"\u001b[39m\u001b[39m%\u001b[39m\u001b[39m Passing Math\u001b[39m\u001b[39m\"\u001b[39m: \u001b[39m\"\u001b[39m\u001b[39m{:6f}\u001b[39;00m\u001b[39m\"\u001b[39m, \n\u001b[0;32m     63\u001b[0m                           \u001b[39m\"\u001b[39m\u001b[39m%\u001b[39m\u001b[39m Passing Reading\u001b[39m\u001b[39m\"\u001b[39m: \u001b[39m\"\u001b[39m\u001b[39m{:6f}\u001b[39;00m\u001b[39m\"\u001b[39m})\n",
      "File \u001b[1;32m~\\AppData\\Local\\Packages\\PythonSoftwareFoundation.Python.3.11_qbz5n2kfra8p0\\LocalCache\\local-packages\\Python311\\site-packages\\pandas\\core\\frame.py:1291\u001b[0m, in \u001b[0;36mDataFrame.style\u001b[1;34m(self)\u001b[0m\n\u001b[0;32m   1279\u001b[0m \u001b[39m@property\u001b[39m\n\u001b[0;32m   1280\u001b[0m \u001b[39mdef\u001b[39;00m \u001b[39mstyle\u001b[39m(\u001b[39mself\u001b[39m) \u001b[39m-\u001b[39m\u001b[39m>\u001b[39m Styler:\n\u001b[0;32m   1281\u001b[0m \u001b[39m    \u001b[39m\u001b[39m\"\"\"\u001b[39;00m\n\u001b[0;32m   1282\u001b[0m \u001b[39m    Returns a Styler object.\u001b[39;00m\n\u001b[0;32m   1283\u001b[0m \n\u001b[1;32m   (...)\u001b[0m\n\u001b[0;32m   1289\u001b[0m \u001b[39m        data with HTML and CSS.\u001b[39;00m\n\u001b[0;32m   1290\u001b[0m \u001b[39m    \"\"\"\u001b[39;00m\n\u001b[1;32m-> 1291\u001b[0m     \u001b[39mfrom\u001b[39;00m \u001b[39mpandas\u001b[39;00m\u001b[39m.\u001b[39;00m\u001b[39mio\u001b[39;00m\u001b[39m.\u001b[39;00m\u001b[39mformats\u001b[39;00m\u001b[39m.\u001b[39;00m\u001b[39mstyle\u001b[39;00m \u001b[39mimport\u001b[39;00m Styler\n\u001b[0;32m   1293\u001b[0m     \u001b[39mreturn\u001b[39;00m Styler(\u001b[39mself\u001b[39m)\n",
      "File \u001b[1;32m~\\AppData\\Local\\Packages\\PythonSoftwareFoundation.Python.3.11_qbz5n2kfra8p0\\LocalCache\\local-packages\\Python311\\site-packages\\pandas\\io\\formats\\style.py:56\u001b[0m\n\u001b[0;32m     52\u001b[0m \u001b[39mfrom\u001b[39;00m \u001b[39mpandas\u001b[39;00m\u001b[39m.\u001b[39;00m\u001b[39mcore\u001b[39;00m\u001b[39m.\u001b[39;00m\u001b[39mshared_docs\u001b[39;00m \u001b[39mimport\u001b[39;00m _shared_docs\n\u001b[0;32m     54\u001b[0m \u001b[39mfrom\u001b[39;00m \u001b[39mpandas\u001b[39;00m\u001b[39m.\u001b[39;00m\u001b[39mio\u001b[39;00m\u001b[39m.\u001b[39;00m\u001b[39mformats\u001b[39;00m\u001b[39m.\u001b[39;00m\u001b[39mformat\u001b[39;00m \u001b[39mimport\u001b[39;00m save_to_buffer\n\u001b[1;32m---> 56\u001b[0m jinja2 \u001b[39m=\u001b[39m import_optional_dependency(\u001b[39m\"\u001b[39;49m\u001b[39mjinja2\u001b[39;49m\u001b[39m\"\u001b[39;49m, extra\u001b[39m=\u001b[39;49m\u001b[39m\"\u001b[39;49m\u001b[39mDataFrame.style requires jinja2.\u001b[39;49m\u001b[39m\"\u001b[39;49m)\n\u001b[0;32m     58\u001b[0m \u001b[39mfrom\u001b[39;00m \u001b[39mpandas\u001b[39;00m\u001b[39m.\u001b[39;00m\u001b[39mio\u001b[39;00m\u001b[39m.\u001b[39;00m\u001b[39mformats\u001b[39;00m\u001b[39m.\u001b[39;00m\u001b[39mstyle_render\u001b[39;00m \u001b[39mimport\u001b[39;00m (\n\u001b[0;32m     59\u001b[0m     CSSProperties,\n\u001b[0;32m     60\u001b[0m     CSSStyles,\n\u001b[1;32m   (...)\u001b[0m\n\u001b[0;32m     68\u001b[0m     refactor_levels,\n\u001b[0;32m     69\u001b[0m )\n\u001b[0;32m     71\u001b[0m \u001b[39mif\u001b[39;00m TYPE_CHECKING:\n",
      "File \u001b[1;32m~\\AppData\\Local\\Packages\\PythonSoftwareFoundation.Python.3.11_qbz5n2kfra8p0\\LocalCache\\local-packages\\Python311\\site-packages\\pandas\\compat\\_optional.py:145\u001b[0m, in \u001b[0;36mimport_optional_dependency\u001b[1;34m(name, extra, errors, min_version)\u001b[0m\n\u001b[0;32m    143\u001b[0m \u001b[39mexcept\u001b[39;00m \u001b[39mImportError\u001b[39;00m:\n\u001b[0;32m    144\u001b[0m     \u001b[39mif\u001b[39;00m errors \u001b[39m==\u001b[39m \u001b[39m\"\u001b[39m\u001b[39mraise\u001b[39m\u001b[39m\"\u001b[39m:\n\u001b[1;32m--> 145\u001b[0m         \u001b[39mraise\u001b[39;00m \u001b[39mImportError\u001b[39;00m(msg)\n\u001b[0;32m    146\u001b[0m     \u001b[39mreturn\u001b[39;00m \u001b[39mNone\u001b[39;00m\n\u001b[0;32m    148\u001b[0m \u001b[39m# Handle submodules: if we have submodule, grab parent module from sys.modules\u001b[39;00m\n",
      "\u001b[1;31mImportError\u001b[0m: Missing optional dependency 'Jinja2'. DataFrame.style requires jinja2. Use pip or conda to install Jinja2."
     ]
    }
   ],
   "source": [
    "# Group by school name\n",
    "school_name = school_data_complete.set_index('school_name').groupby(['school_name'])\n",
    "\n",
    "# school types by school name\n",
    "school_type = school_data.set_index('school_name')['type']\n",
    "\n",
    "#  Calculate total students\n",
    "total_student = school_name['Student ID'].count()\n",
    "\n",
    "# Total school budget\n",
    "total_school_budget = school_data.set_index('school_name')['budget']\n",
    "\n",
    "# per student budget\n",
    "budget_per_student = (school_data.set_index('school_name')['budget']/school_data.set_index('school_name')['size'])\n",
    "\n",
    "# Average Math Score\n",
    "average_math_score = school_name['math_score'].mean()\n",
    "\n",
    "# Average Reading Score\n",
    "average_reading_score = school_name['reading_score'].mean()\n",
    "\n",
    "# % Passing Math\n",
    "pass_math_percent = school_data_complete[school_data_complete['math_score'] >= 70].groupby('school_name')['Student ID'].count()/total_student*100\n",
    "\n",
    "# % Passing Reading\n",
    "pass_read_percent = school_data_complete[school_data_complete['reading_score'] >= 70].groupby('school_name')['Student ID'].count()/total_student*100\n",
    "\n",
    "# % Overall Passing (The percentage of students that passed math and reading.\n",
    "overall_pass = school_data_complete[(school_data_complete['reading_score'] >= 70) & (school_data_complete['math_score'] >= 70)].groupby('school_name')['Student ID'].count()/total_student*100\n",
    "\n",
    "school_summary = pd.DataFrame({\n",
    "    \"School Type\": school_type,\n",
    "    \"Total Students\": total_student,\n",
    "    \"Per Student Budget\": budget_per_student,\n",
    "    \"Total School Budget\": total_school_budget,\n",
    "    \"Average Math Score\": average_math_score,\n",
    "    \"Average Reading Score\": average_reading_score,\n",
    "    '% Passing Math': pass_math_percent,\n",
    "    '% Passing Reading': pass_read_percent,\n",
    "    \"% Overall Passing\": overall_pass\n",
    "})\n",
    "\n",
    "\n",
    "\n",
    "school_summary = school_summary[['School Type', \n",
    "                          'Total Students', \n",
    "                          'Total School Budget', \n",
    "                          'Per Student Budget', \n",
    "                          'Average Math Score', \n",
    "                          'Average Reading Score',\n",
    "                          '% Passing Math',\n",
    "                          '% Passing Reading',\n",
    "                          '% Overall Passing']]\n",
    "\n",
    "\n",
    "# Formatting\n",
    "school_summary.style.format({'Total Students': '{:}',\n",
    "                          \"Total School Budget\": \"${:,.2f}\",\n",
    "                          \"Per Student Budget\": \"${:.2f}\",\n",
    "                          'Average Math Score': \"{:6f}\", \n",
    "                          'Average Reading Score': \"{:6f}\", \n",
    "                          \"% Passing Math\": \"{:6f}\", \n",
    "                          \"% Passing Reading\": \"{:6f}\"})"
   ]
  },
  {
   "attachments": {},
   "cell_type": "markdown",
   "metadata": {},
   "source": [
    "## Top Performing Schools (By % Overall Passing)"
   ]
  },
  {
   "cell_type": "code",
   "execution_count": 10,
   "metadata": {},
   "outputs": [
    {
     "ename": "ImportError",
     "evalue": "Missing optional dependency 'Jinja2'. DataFrame.style requires jinja2. Use pip or conda to install Jinja2.",
     "output_type": "error",
     "traceback": [
      "\u001b[1;31m---------------------------------------------------------------------------\u001b[0m",
      "\u001b[1;31mModuleNotFoundError\u001b[0m                       Traceback (most recent call last)",
      "File \u001b[1;32m~\\AppData\\Local\\Packages\\PythonSoftwareFoundation.Python.3.11_qbz5n2kfra8p0\\LocalCache\\local-packages\\Python311\\site-packages\\pandas\\compat\\_optional.py:142\u001b[0m, in \u001b[0;36mimport_optional_dependency\u001b[1;34m(name, extra, errors, min_version)\u001b[0m\n\u001b[0;32m    141\u001b[0m \u001b[39mtry\u001b[39;00m:\n\u001b[1;32m--> 142\u001b[0m     module \u001b[39m=\u001b[39m importlib\u001b[39m.\u001b[39;49mimport_module(name)\n\u001b[0;32m    143\u001b[0m \u001b[39mexcept\u001b[39;00m \u001b[39mImportError\u001b[39;00m:\n",
      "File \u001b[1;32mC:\\Program Files\\WindowsApps\\PythonSoftwareFoundation.Python.3.11_3.11.1008.0_x64__qbz5n2kfra8p0\\Lib\\importlib\\__init__.py:126\u001b[0m, in \u001b[0;36mimport_module\u001b[1;34m(name, package)\u001b[0m\n\u001b[0;32m    125\u001b[0m         level \u001b[39m+\u001b[39m\u001b[39m=\u001b[39m \u001b[39m1\u001b[39m\n\u001b[1;32m--> 126\u001b[0m \u001b[39mreturn\u001b[39;00m _bootstrap\u001b[39m.\u001b[39;49m_gcd_import(name[level:], package, level)\n",
      "File \u001b[1;32m<frozen importlib._bootstrap>:1206\u001b[0m, in \u001b[0;36m_gcd_import\u001b[1;34m(name, package, level)\u001b[0m\n",
      "File \u001b[1;32m<frozen importlib._bootstrap>:1178\u001b[0m, in \u001b[0;36m_find_and_load\u001b[1;34m(name, import_)\u001b[0m\n",
      "File \u001b[1;32m<frozen importlib._bootstrap>:1142\u001b[0m, in \u001b[0;36m_find_and_load_unlocked\u001b[1;34m(name, import_)\u001b[0m\n",
      "\u001b[1;31mModuleNotFoundError\u001b[0m: No module named 'jinja2'",
      "\nDuring handling of the above exception, another exception occurred:\n",
      "\u001b[1;31mImportError\u001b[0m                               Traceback (most recent call last)",
      "Cell \u001b[1;32mIn[10], line 3\u001b[0m\n\u001b[0;32m      1\u001b[0m \u001b[39m# Sort and display the top five schools by passing rate \u001b[39;00m\n\u001b[0;32m      2\u001b[0m top_perform \u001b[39m=\u001b[39m school_summary\u001b[39m.\u001b[39msort_values(\u001b[39m\"\u001b[39m\u001b[39m%\u001b[39m\u001b[39m Overall Passing\u001b[39m\u001b[39m\"\u001b[39m, ascending \u001b[39m=\u001b[39m \u001b[39mFalse\u001b[39;00m)\n\u001b[1;32m----> 3\u001b[0m top_perform\u001b[39m.\u001b[39;49mhead()\u001b[39m.\u001b[39;49mstyle\u001b[39m.\u001b[39mformat({\u001b[39m'\u001b[39m\u001b[39mTotal Students\u001b[39m\u001b[39m'\u001b[39m: \u001b[39m'\u001b[39m\u001b[39m{:}\u001b[39;00m\u001b[39m'\u001b[39m,\n\u001b[0;32m      4\u001b[0m                            \u001b[39m\"\u001b[39m\u001b[39mTotal School Budget\u001b[39m\u001b[39m\"\u001b[39m: \u001b[39m\"\u001b[39m\u001b[39m$\u001b[39m\u001b[39m{:,.2f}\u001b[39;00m\u001b[39m\"\u001b[39m, \n\u001b[0;32m      5\u001b[0m                            \u001b[39m\"\u001b[39m\u001b[39mPer Student Budget\u001b[39m\u001b[39m\"\u001b[39m: \u001b[39m\"\u001b[39m\u001b[39m$\u001b[39m\u001b[39m{:.2f}\u001b[39;00m\u001b[39m\"\u001b[39m, \n\u001b[0;32m      6\u001b[0m                            \u001b[39m\"\u001b[39m\u001b[39m%\u001b[39m\u001b[39m Passing Math\u001b[39m\u001b[39m\"\u001b[39m: \u001b[39m\"\u001b[39m\u001b[39m{:6f}\u001b[39;00m\u001b[39m\"\u001b[39m, \n\u001b[0;32m      7\u001b[0m                            \u001b[39m\"\u001b[39m\u001b[39m%\u001b[39m\u001b[39m Passing Reading\u001b[39m\u001b[39m\"\u001b[39m: \u001b[39m\"\u001b[39m\u001b[39m{:6f}\u001b[39;00m\u001b[39m\"\u001b[39m, \n\u001b[0;32m      8\u001b[0m                            \u001b[39m\"\u001b[39m\u001b[39m%\u001b[39m\u001b[39m Overall Passing\u001b[39m\u001b[39m\"\u001b[39m: \u001b[39m\"\u001b[39m\u001b[39m{:6f}\u001b[39;00m\u001b[39m\"\u001b[39m})\n",
      "File \u001b[1;32m~\\AppData\\Local\\Packages\\PythonSoftwareFoundation.Python.3.11_qbz5n2kfra8p0\\LocalCache\\local-packages\\Python311\\site-packages\\pandas\\core\\frame.py:1291\u001b[0m, in \u001b[0;36mDataFrame.style\u001b[1;34m(self)\u001b[0m\n\u001b[0;32m   1279\u001b[0m \u001b[39m@property\u001b[39m\n\u001b[0;32m   1280\u001b[0m \u001b[39mdef\u001b[39;00m \u001b[39mstyle\u001b[39m(\u001b[39mself\u001b[39m) \u001b[39m-\u001b[39m\u001b[39m>\u001b[39m Styler:\n\u001b[0;32m   1281\u001b[0m \u001b[39m    \u001b[39m\u001b[39m\"\"\"\u001b[39;00m\n\u001b[0;32m   1282\u001b[0m \u001b[39m    Returns a Styler object.\u001b[39;00m\n\u001b[0;32m   1283\u001b[0m \n\u001b[1;32m   (...)\u001b[0m\n\u001b[0;32m   1289\u001b[0m \u001b[39m        data with HTML and CSS.\u001b[39;00m\n\u001b[0;32m   1290\u001b[0m \u001b[39m    \"\"\"\u001b[39;00m\n\u001b[1;32m-> 1291\u001b[0m     \u001b[39mfrom\u001b[39;00m \u001b[39mpandas\u001b[39;00m\u001b[39m.\u001b[39;00m\u001b[39mio\u001b[39;00m\u001b[39m.\u001b[39;00m\u001b[39mformats\u001b[39;00m\u001b[39m.\u001b[39;00m\u001b[39mstyle\u001b[39;00m \u001b[39mimport\u001b[39;00m Styler\n\u001b[0;32m   1293\u001b[0m     \u001b[39mreturn\u001b[39;00m Styler(\u001b[39mself\u001b[39m)\n",
      "File \u001b[1;32m~\\AppData\\Local\\Packages\\PythonSoftwareFoundation.Python.3.11_qbz5n2kfra8p0\\LocalCache\\local-packages\\Python311\\site-packages\\pandas\\io\\formats\\style.py:56\u001b[0m\n\u001b[0;32m     52\u001b[0m \u001b[39mfrom\u001b[39;00m \u001b[39mpandas\u001b[39;00m\u001b[39m.\u001b[39;00m\u001b[39mcore\u001b[39;00m\u001b[39m.\u001b[39;00m\u001b[39mshared_docs\u001b[39;00m \u001b[39mimport\u001b[39;00m _shared_docs\n\u001b[0;32m     54\u001b[0m \u001b[39mfrom\u001b[39;00m \u001b[39mpandas\u001b[39;00m\u001b[39m.\u001b[39;00m\u001b[39mio\u001b[39;00m\u001b[39m.\u001b[39;00m\u001b[39mformats\u001b[39;00m\u001b[39m.\u001b[39;00m\u001b[39mformat\u001b[39;00m \u001b[39mimport\u001b[39;00m save_to_buffer\n\u001b[1;32m---> 56\u001b[0m jinja2 \u001b[39m=\u001b[39m import_optional_dependency(\u001b[39m\"\u001b[39;49m\u001b[39mjinja2\u001b[39;49m\u001b[39m\"\u001b[39;49m, extra\u001b[39m=\u001b[39;49m\u001b[39m\"\u001b[39;49m\u001b[39mDataFrame.style requires jinja2.\u001b[39;49m\u001b[39m\"\u001b[39;49m)\n\u001b[0;32m     58\u001b[0m \u001b[39mfrom\u001b[39;00m \u001b[39mpandas\u001b[39;00m\u001b[39m.\u001b[39;00m\u001b[39mio\u001b[39;00m\u001b[39m.\u001b[39;00m\u001b[39mformats\u001b[39;00m\u001b[39m.\u001b[39;00m\u001b[39mstyle_render\u001b[39;00m \u001b[39mimport\u001b[39;00m (\n\u001b[0;32m     59\u001b[0m     CSSProperties,\n\u001b[0;32m     60\u001b[0m     CSSStyles,\n\u001b[1;32m   (...)\u001b[0m\n\u001b[0;32m     68\u001b[0m     refactor_levels,\n\u001b[0;32m     69\u001b[0m )\n\u001b[0;32m     71\u001b[0m \u001b[39mif\u001b[39;00m TYPE_CHECKING:\n",
      "File \u001b[1;32m~\\AppData\\Local\\Packages\\PythonSoftwareFoundation.Python.3.11_qbz5n2kfra8p0\\LocalCache\\local-packages\\Python311\\site-packages\\pandas\\compat\\_optional.py:145\u001b[0m, in \u001b[0;36mimport_optional_dependency\u001b[1;34m(name, extra, errors, min_version)\u001b[0m\n\u001b[0;32m    143\u001b[0m \u001b[39mexcept\u001b[39;00m \u001b[39mImportError\u001b[39;00m:\n\u001b[0;32m    144\u001b[0m     \u001b[39mif\u001b[39;00m errors \u001b[39m==\u001b[39m \u001b[39m\"\u001b[39m\u001b[39mraise\u001b[39m\u001b[39m\"\u001b[39m:\n\u001b[1;32m--> 145\u001b[0m         \u001b[39mraise\u001b[39;00m \u001b[39mImportError\u001b[39;00m(msg)\n\u001b[0;32m    146\u001b[0m     \u001b[39mreturn\u001b[39;00m \u001b[39mNone\u001b[39;00m\n\u001b[0;32m    148\u001b[0m \u001b[39m# Handle submodules: if we have submodule, grab parent module from sys.modules\u001b[39;00m\n",
      "\u001b[1;31mImportError\u001b[0m: Missing optional dependency 'Jinja2'. DataFrame.style requires jinja2. Use pip or conda to install Jinja2."
     ]
    }
   ],
   "source": [
    "# Sort and display the top five schools by passing rate \n",
    "top_perform = school_summary.sort_values(\"% Overall Passing\", ascending = False)\n",
    "top_perform.head().style.format({'Total Students': '{:}',\n",
    "                           \"Total School Budget\": \"${:,.2f}\", \n",
    "                           \"Per Student Budget\": \"${:.2f}\", \n",
    "                           \"% Passing Math\": \"{:6f}\", \n",
    "                           \"% Passing Reading\": \"{:6f}\", \n",
    "                           \"% Overall Passing\": \"{:6f}\"})"
   ]
  },
  {
   "attachments": {},
   "cell_type": "markdown",
   "metadata": {},
   "source": [
    "## Bottom Performing Schools (By % Overall Passing)"
   ]
  },
  {
   "cell_type": "code",
   "execution_count": null,
   "metadata": {},
   "outputs": [],
   "source": [
    "# Sort and display the five worst-performing schools\n",
    "school_summary_df = school_summary_df.sort_values([\"% Overall Passing Rate\"], ascending=True)\n",
    "\n",
    "school_summary_df[[\"School Type\",\n",
    "      \"Total Students\",\n",
    "      \"Total School Budget\",\n",
    "      \"Per Student Budget\",\n",
    "      \"Average Math Score\",\n",
    "      \"Average Reading Score\",\n",
    "      \"% Passing Math\",\n",
    "      \"% Passing Reading\",\n",
    "      \"% Overall Passing Rate\"]].head()"
   ]
  },
  {
   "attachments": {},
   "cell_type": "markdown",
   "metadata": {},
   "source": [
    "## Math Scores by Grade"
   ]
  },
  {
   "cell_type": "code",
   "execution_count": null,
   "metadata": {},
   "outputs": [],
   "source": [
    "# Create a table that lists the average Math Score for students of each grade level (9th, 10th, 11th, 12th) at each school.\n",
    "# Create a pandas series for each grade. Hint: use a conditional statement.\n",
    "# Group each series by school\n",
    "grade9th_ds = school_data_complete.loc[school_data_complete[\"grade\"] == \"9th\"].groupby([\"school_name\"])[\"math_score\"].mean()\n",
    "grade10th_ds = school_data_complete.loc[school_data_complete[\"grade\"] == \"10th\"].groupby([\"school_name\"])[\"math_score\"].mean()\n",
    "grade11th_ds = school_data_complete.loc[school_data_complete[\"grade\"] == \"11th\"].groupby([\"school_name\"])[\"math_score\"].mean()\n",
    "grade12th_ds = school_data_complete.loc[school_data_complete[\"grade\"] == \"12th\"].groupby([\"school_name\"])[\"math_score\"].mean()\n",
    "\n",
    "# Combine the series into a dataframe\n",
    "grade_summary_df = pd.DataFrame({\"9th\": grade9th_ds,\n",
    "      \"10th\": grade10th_ds,\n",
    "      \"11th\": grade11th_ds,\n",
    "      \"12th\": grade12th_ds})\n",
    "\n",
    "grade_summary_df[[\"9th\", \"10th\", \"11th\", \"12th\"]]"
   ]
  },
  {
   "attachments": {},
   "cell_type": "markdown",
   "metadata": {},
   "source": [
    "## Reading Score by Grade "
   ]
  },
  {
   "cell_type": "code",
   "execution_count": null,
   "metadata": {},
   "outputs": [],
   "source": [
    "# Create a table that lists the average Math Score for students of each grade level (9th, 10th, 11th, 12th) at each school.\n",
    "# Create a pandas series for each grade. Hint: use a conditional statement.\n",
    "# Group each series by school\n",
    "grade9th_ds2 = school_data_complete.loc[school_data_complete[\"grade\"] == \"9th\"].groupby([\"school_name\"])[\"reading_score\"].mean()\n",
    "grade10th_ds2 = school_data_complete.loc[school_data_complete[\"grade\"] == \"10th\"].groupby([\"school_name\"])[\"reading_score\"].mean()\n",
    "grade11th_ds2 = school_data_complete.loc[school_data_complete[\"grade\"] == \"11th\"].groupby([\"school_name\"])[\"reading_score\"].mean()\n",
    "grade12th_ds2 = school_data_complete.loc[school_data_complete[\"grade\"] == \"12th\"].groupby([\"school_name\"])[\"reading_score\"].mean()\n",
    "\n",
    "# Combine the series into a dataframe\n",
    "grade_summary_df2 = pd.DataFrame({\"9th\": grade9th_ds2,\n",
    "      \"10th\": grade10th_ds2,\n",
    "      \"11th\": grade11th_ds2,\n",
    "      \"12th\": grade12th_ds2})\n",
    "\n",
    "grade_summary_df2[[\"9th\", \"10th\", \"11th\", \"12th\"]]"
   ]
  },
  {
   "attachments": {},
   "cell_type": "markdown",
   "metadata": {},
   "source": [
    "## Scores by School Spending"
   ]
  },
  {
   "cell_type": "code",
   "execution_count": null,
   "metadata": {},
   "outputs": [],
   "source": [
    "#Create bins \n",
    "spending_bins = [0, 585, 615, 645, 675]\n",
    "group_names = [\"<$585\", \"$585-615\", \"$615-645\", \"$645-675\"]"
   ]
  },
  {
   "cell_type": "code",
   "execution_count": null,
   "metadata": {},
   "outputs": [],
   "source": [
    "# Create a table that breaks down school performances based on average Spending Ranges (Per Student)# Reset Index in group by \"school name\"\n",
    "school_summary_df = school_summary_df.reset_index()\n",
    "# Add Spending Ranges by Bins\n",
    "school_summary_df[\"Spending Ranges (Per Student)\"] = pd.cut(school_summary_df[\"Per Student Budget\"], spending_bins, labels=group_names)\n",
    "# Groupby Spending ranges\n",
    "grouped_spend_df = school_summary_df.groupby([\"Spending Ranges (Per Student)\"])              \n",
    "# Calculate the values for the data table\n",
    "spending_summary_df = grouped_spend_df.mean()\n",
    "\n",
    "# Display Summary\n",
    "spending_summary_df[[\"Average Math Score\",\n",
    "                    \"Average Reading Score\",\n",
    "                    \"PercentPassing Math\",\n",
    "                    \"Percent Passing Reading\",\n",
    "                    \"Percent Overall Passing Rate\"]]"
   ]
  },
  {
   "attachments": {},
   "cell_type": "markdown",
   "metadata": {},
   "source": [
    "## Scores by School Size"
   ]
  },
  {
   "cell_type": "code",
   "execution_count": null,
   "metadata": {},
   "outputs": [],
   "source": [
    "#Create bins\n",
    "size_bins = [0, 1000, 2000, 5000]\n",
    "group_names = [\"Small (<1000)\", \"Medium (1000-2000)\", \"Large (2000-5000)\"]\n",
    "\n",
    "# Create a table that breaks down school performances based on school size\n",
    "# Reset Index in group by \"Spending Ranges (Per Student)\"\n",
    "school_summary_df = school_summary_df.reset_index()\n",
    "# Add Spending Ranges by Bins\n",
    "school_summary_df[\"School Size\"] = pd.cut(school_summary_df[\"Total Students\"], size_bins, labels=group_names)\n",
    "# Groupby Spending ranges\n",
    "grouped_size_df = school_summary_df.groupby([\"School Size\"])   \n",
    "# Calculate the values for the data table\n",
    "size_summary_df = grouped_size_df.mean()\n",
    "\n",
    "# Display Summary\n",
    "size_summary_df[[\"Average Math Score\",\n",
    "                \"Average Reading Score\",\n",
    "                \"% Passing Math\",\n",
    "                \"% Passing Reading\",\n",
    "                \"% Overall Passing Rate\"]]"
   ]
  },
  {
   "attachments": {},
   "cell_type": "markdown",
   "metadata": {},
   "source": [
    "## Scores by School Type"
   ]
  },
  {
   "cell_type": "code",
   "execution_count": null,
   "metadata": {},
   "outputs": [],
   "source": [
    "# Create a table that breaks down school performances based on school size\n",
    "# Reset Index in group by \"Spending Ranges (Per Student)\"\n",
    "school_summary_df = school_summary_df.reset_index()\n",
    "# Groupby Spending ranges\n",
    "grouped_type_df = school_summary_df.groupby([\"School Type\"])              \n",
    "# Calculate the values for the data table\n",
    "type_summary_df = grouped_type_df.mean()\n",
    "\n",
    "# Display Summary\n",
    "type_summary_df[[\"Average Math Score\",\n",
    "                \"Average Reading Score\",\n",
    "                \"% Passing Math\",\n",
    "                \"% Passing Reading\",\n",
    "                \"% Overall Passing Rate\"]]"
   ]
  }
 ],
 "metadata": {
  "anaconda-cloud": {},
  "kernel_info": {
   "name": "python3"
  },
  "kernelspec": {
   "display_name": "PythonData",
   "language": "python",
   "name": "python3"
  },
  "language_info": {
   "codemirror_mode": {
    "name": "ipython",
    "version": 3
   },
   "file_extension": ".py",
   "mimetype": "text/x-python",
   "name": "python",
   "nbconvert_exporter": "python",
   "pygments_lexer": "ipython3",
   "version": "3.11.3"
  },
  "latex_envs": {
   "LaTeX_envs_menu_present": true,
   "autoclose": false,
   "autocomplete": true,
   "bibliofile": "biblio.bib",
   "cite_by": "apalike",
   "current_citInitial": 1,
   "eqLabelWithNumbers": true,
   "eqNumInitial": 1,
   "hotkeys": {
    "equation": "Ctrl-E",
    "itemize": "Ctrl-I"
   },
   "labels_anchors": false,
   "latex_user_defs": false,
   "report_style_numbering": false,
   "user_envs_cfg": false
  },
  "nteract": {
   "version": "0.8.4"
  },
  "vscode": {
   "interpreter": {
    "hash": "5384d77d82de63fd599f73e77f9ec786e7719288bf80a29ec0288c670ac3cf32"
   }
  }
 },
 "nbformat": 4,
 "nbformat_minor": 4
}
